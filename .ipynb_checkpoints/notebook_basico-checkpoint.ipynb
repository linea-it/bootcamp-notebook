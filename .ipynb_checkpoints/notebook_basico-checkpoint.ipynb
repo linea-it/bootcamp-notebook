{
 "cells": [
  {
   "cell_type": "markdown",
   "metadata": {},
   "source": [
    "# Comandos básicos de Jupyter Notebook\n",
    "\n",
    "Existem dois modos no Jupyter Notebook: Edição e Comando.\n",
    "\n",
    "Quando a célula está azul, você está no modo de comando. No modo de edição a cor é verde.\n",
    "\n",
    "Para acessar os modos:\n",
    "+ Edição: **Enter**\n",
    "+ Comando: **Esc**\n",
    "\n",
    "## Executando uma célula\n",
    "Para executar uma célula você pode usar o seguintes comandos:\n",
    "+ **Ctrl+Enter**: Somente executa a célula selecionada\n",
    "+ **Shift+Enter**: Executa a célula selecionada e pula para a próxima\n",
    "+ **Alt+Enter**: Executa a célula selecionada e cria uma abaixo\n",
    "\n",
    "Agora navegue para a célula abaixo com as setas do teclado e teste os comandos."
   ]
  },
  {
   "cell_type": "code",
   "execution_count": 1,
   "metadata": {},
   "outputs": [
    {
     "name": "stdout",
     "output_type": "stream",
     "text": [
      "Hello World!\n"
     ]
    }
   ],
   "source": [
    "print(\"Hello World!\")"
   ]
  },
  {
   "cell_type": "markdown",
   "metadata": {},
   "source": [
    "Note que ao lado da célula está escrito **In [1]:**\n",
    "\n",
    "Isso indica a ordem de execução das células. Quando ainda está executando, aparece na forma **In [*]:**"
   ]
  },
  {
   "cell_type": "markdown",
   "metadata": {},
   "source": [
    "## Tipos de Células\n",
    "\n",
    "No modo de comando você pode alterar o tipo de célula com os seguintes comandos:\n",
    "+ **y** : Código\n",
    "+ **m** : Markdown\n",
    "+ **r** : Texto puro\n",
    "\n",
    "Abaixo os três exemplos:"
   ]
  },
  {
   "cell_type": "code",
   "execution_count": 3,
   "metadata": {},
   "outputs": [],
   "source": [
    "# Célula de código"
   ]
  },
  {
   "cell_type": "markdown",
   "metadata": {},
   "source": [
    "# Célula de markdown"
   ]
  },
  {
   "cell_type": "raw",
   "metadata": {},
   "source": [
    "# Célula de texto puro"
   ]
  },
  {
   "cell_type": "markdown",
   "metadata": {},
   "source": [
    "## Comandos úteis\n",
    "\n",
    "+ **a**: cria antes\n",
    "+ **b**: cria depois\n",
    "+ **x**: cortar\n",
    "+ **c**: copiar\n",
    "+ **v**: colar\n",
    "+ **d, d**: apagar (apertar duas vezes o 'd')\n",
    "+ **z**: desfazer o último 'apagar'"
   ]
  },
  {
   "cell_type": "markdown",
   "metadata": {},
   "source": [
    "## Markdown\n",
    "\n",
    "### Entre no modo de edição dessa célula para ver como cada item foi feito.\n",
    "\n",
    "# h1\n",
    "## h2\n",
    "### h3\n",
    "#### h4\n",
    "\n",
    "**bold**, __bold__\n",
    "\n",
    "_italic_, *italic*\n",
    "\n",
    "~~Strikethrough~~\n",
    "\n",
    "***Bold and italic***\n",
    "\n",
    "> blockquote\n",
    "\n",
    "Inline `print(\"Hello World\")`\n",
    "\n",
    "```\n",
    "def quote_code_markdown()\n",
    "    return\n",
    "```\n",
    "\n",
    "Código em uma linguagem\n",
    "```python\n",
    "def python_func()\n",
    "    return\n",
    "```\n",
    "\n",
    "Mais detalhes sobre codigo no [link](https://help.github.com/en/articles/creating-and-highlighting-code-blocks)\n",
    "\n",
    "### Exemplos de listas\n",
    "\n",
    "- item 1\n",
    "- item 2\n",
    "- item 3\n",
    "\n",
    "\n",
    "1. item 1\n",
    "2. item 2\n",
    "3. item 3\n",
    "\n",
    "\n",
    "- item 1\n",
    "  - item 2\n",
    "    - item 3\n",
    "\n",
    "\n",
    "1. item 1\n",
    "   1. item 2\n",
    "      1. item 3\n",
    "\n",
    "**Mais informações sobre markdown no [link](https://help.github.com/en/articles/basic-writing-and-formatting-syntax)**"
   ]
  },
  {
   "cell_type": "markdown",
   "metadata": {},
   "source": [
    "## Também é possível usar Latex\n",
    "\n",
    "Na mesma linha: $e^{i\\pi} + 1 = 0$\n",
    "\n",
    "Ou em uma linha separada:\n",
    "$$e^x=\\sum_{i=0}^\\infty \\frac{1}{i!}x^i$$"
   ]
  },
  {
   "cell_type": "markdown",
   "metadata": {},
   "source": [
    "# Widgets\n",
    "\n",
    "No Notebook você pode usar elementos gráficos para auxiliar na criação de código.\n",
    "\n",
    "Para usar esses elementos é necessário carregar o seguinte modulo:"
   ]
  },
  {
   "cell_type": "code",
   "execution_count": 5,
   "metadata": {},
   "outputs": [],
   "source": [
    "import ipywidgets as widgets"
   ]
  },
  {
   "cell_type": "markdown",
   "metadata": {},
   "source": [
    "## Slide\n",
    "\n",
    "Um exemplo é o slide, que te possibilita definir um valor graficamente usando o mouse."
   ]
  },
  {
   "cell_type": "code",
   "execution_count": 6,
   "metadata": {},
   "outputs": [
    {
     "data": {
      "application/vnd.jupyter.widget-view+json": {
       "model_id": "a322497393264b76acdf1b6025898e4a",
       "version_major": 2,
       "version_minor": 0
      },
      "text/plain": [
       "IntSlider(value=0)"
      ]
     },
     "metadata": {},
     "output_type": "display_data"
    }
   ],
   "source": [
    "widgets.IntSlider()"
   ]
  },
  {
   "cell_type": "code",
   "execution_count": 7,
   "metadata": {},
   "outputs": [
    {
     "data": {
      "application/vnd.jupyter.widget-view+json": {
       "model_id": "b3dd4782541b43c6b3c5e61b1f769d15",
       "version_major": 2,
       "version_minor": 0
      },
      "text/plain": [
       "IntSlider(value=0)"
      ]
     },
     "metadata": {},
     "output_type": "display_data"
    }
   ],
   "source": [
    "from IPython.display import display\n",
    "w = widgets.IntSlider()\n",
    "display(w)"
   ]
  },
  {
   "cell_type": "markdown",
   "metadata": {},
   "source": [
    "## Input\n",
    "\n",
    "Você também pode criar caixa de texto para inserir um valor."
   ]
  },
  {
   "cell_type": "code",
   "execution_count": 10,
   "metadata": {},
   "outputs": [
    {
     "data": {
      "application/vnd.jupyter.widget-view+json": {
       "model_id": "24b8cdd9f1414bd1a96fad0aa37302a5",
       "version_major": 2,
       "version_minor": 0
      },
      "text/plain": [
       "Text(value='Coloque aqui o valor')"
      ]
     },
     "metadata": {},
     "output_type": "display_data"
    }
   ],
   "source": [
    "widgets.Text(value='Coloque aqui o valor')"
   ]
  },
  {
   "cell_type": "markdown",
   "metadata": {},
   "source": [
    "## Alguns exemplos de widgets\n",
    "**Outros exemplos no [link](https://ipywidgets.readthedocs.io/en/latest/examples/Widget%20List.html)**"
   ]
  },
  {
   "cell_type": "code",
   "execution_count": 11,
   "metadata": {},
   "outputs": [
    {
     "data": {
      "application/vnd.jupyter.widget-view+json": {
       "model_id": "f0e030125c594e7ab2645058474e5846",
       "version_major": 2,
       "version_minor": 0
      },
      "text/plain": [
       "FloatText(value=0.0)"
      ]
     },
     "metadata": {},
     "output_type": "display_data"
    },
    {
     "data": {
      "application/vnd.jupyter.widget-view+json": {
       "model_id": "9dd5d807bb8f4001b63c70d7b4189e6f",
       "version_major": 2,
       "version_minor": 0
      },
      "text/plain": [
       "FloatSlider(value=0.0)"
      ]
     },
     "metadata": {},
     "output_type": "display_data"
    }
   ],
   "source": [
    "a = widgets.FloatText()\n",
    "b = widgets.FloatSlider()\n",
    "display(a,b)\n",
    "\n",
    "mylink = widgets.jslink((a, 'value'), (b, 'value'))"
   ]
  },
  {
   "cell_type": "code",
   "execution_count": 12,
   "metadata": {},
   "outputs": [
    {
     "data": {
      "application/vnd.jupyter.widget-view+json": {
       "model_id": "24fb57c5ab0c4d6988b68660c23c3c58",
       "version_major": 2,
       "version_minor": 0
      },
      "text/plain": [
       "FloatRangeSlider(value=(5.0, 7.5), continuous_update=False, description='Test:', max=10.0, readout_format='.1f…"
      ]
     },
     "metadata": {},
     "output_type": "display_data"
    }
   ],
   "source": [
    "widgets.FloatRangeSlider(\n",
    "    value=[5, 7.5],\n",
    "    min=0,\n",
    "    max=10.0,\n",
    "    step=0.1,\n",
    "    description='Test:',\n",
    "    disabled=False,\n",
    "    continuous_update=False,\n",
    "    orientation='horizontal',\n",
    "    readout=True,\n",
    "    readout_format='.1f',\n",
    ")"
   ]
  },
  {
   "cell_type": "code",
   "execution_count": 13,
   "metadata": {},
   "outputs": [
    {
     "data": {
      "application/vnd.jupyter.widget-view+json": {
       "model_id": "e3f4e000671b4a22a1a26b3dfba7c221",
       "version_major": 2,
       "version_minor": 0
      },
      "text/plain": [
       "IntProgress(value=7, description='Loading:', max=10)"
      ]
     },
     "metadata": {},
     "output_type": "display_data"
    }
   ],
   "source": [
    "widgets.IntProgress(\n",
    "    value=7,\n",
    "    min=0,\n",
    "    max=10,\n",
    "    step=1,\n",
    "    description='Loading:',\n",
    "    bar_style='', # 'success', 'info', 'warning', 'danger' or ''\n",
    "    orientation='horizontal'\n",
    ")"
   ]
  },
  {
   "cell_type": "code",
   "execution_count": 14,
   "metadata": {},
   "outputs": [
    {
     "data": {
      "application/vnd.jupyter.widget-view+json": {
       "model_id": "1781a89012c24d2cb8134d64d85f0c4c",
       "version_major": 2,
       "version_minor": 0
      },
      "text/plain": [
       "Dropdown(description='Number:', index=1, options=('1', '2', '3'), value='2')"
      ]
     },
     "metadata": {},
     "output_type": "display_data"
    }
   ],
   "source": [
    "widgets.Dropdown(\n",
    "    options=['1', '2', '3'],\n",
    "    value='2',\n",
    "    description='Number:',\n",
    "    disabled=False,\n",
    ")"
   ]
  }
 ],
 "metadata": {
  "kernelspec": {
   "display_name": "science",
   "language": "python",
   "name": "science"
  },
  "language_info": {
   "codemirror_mode": {
    "name": "ipython",
    "version": 3
   },
   "file_extension": ".py",
   "mimetype": "text/x-python",
   "name": "python",
   "nbconvert_exporter": "python",
   "pygments_lexer": "ipython3",
   "version": "3.6.8"
  }
 },
 "nbformat": 4,
 "nbformat_minor": 2
}
